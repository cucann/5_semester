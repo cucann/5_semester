{
  "cells": [
    {
      "cell_type": "code",
      "execution_count": 4,
      "id": "9ae06fcf-0596-4927-9ccf-c62e0c1fb38c",
      "metadata": {
        "colab": {
          "base_uri": "https://localhost:8080/"
        },
        "id": "9ae06fcf-0596-4927-9ccf-c62e0c1fb38c",
        "outputId": "77aa8fba-cc10-4b75-836d-553a181e7416"
      },
      "outputs": [
        {
          "output_type": "stream",
          "name": "stdout",
          "text": [
            "Requirement already satisfied: pyspark in /usr/local/lib/python3.10/dist-packages (3.5.3)\n",
            "Requirement already satisfied: py4j==0.10.9.7 in /usr/local/lib/python3.10/dist-packages (from pyspark) (0.10.9.7)\n"
          ]
        }
      ],
      "source": [
        "!pip install pyspark"
      ]
    },
    {
      "cell_type": "code",
      "execution_count": 5,
      "id": "71b1f246-eb5c-4d8a-8f68-038a891849be",
      "metadata": {
        "id": "71b1f246-eb5c-4d8a-8f68-038a891849be"
      },
      "outputs": [],
      "source": [
        "import pandas as pd\n",
        "import matplotlib.pyplot as plt"
      ]
    },
    {
      "cell_type": "code",
      "source": [
        "from pyspark.sql import SparkSession\n",
        "from pyspark.sql.functions import avg, col"
      ],
      "metadata": {
        "id": "YGssD6CCwh_N"
      },
      "id": "YGssD6CCwh_N",
      "execution_count": 25,
      "outputs": []
    },
    {
      "cell_type": "code",
      "source": [
        "# Создание SparkSession\n",
        "spark = SparkSession.builder \\\n",
        "    .appName(\"Average Close Price Calculation\") \\\n",
        "    .getOrCreate()\n",
        "\n",
        "spark.conf.set(\"spark.sql.shuffle.partitions\", \"50\")"
      ],
      "metadata": {
        "id": "j9WvaZCewk3d"
      },
      "id": "j9WvaZCewk3d",
      "execution_count": 64,
      "outputs": []
    },
    {
      "cell_type": "code",
      "execution_count": 90,
      "id": "f160664f-b227-467c-88d4-d33e7c5a3c0f",
      "metadata": {
        "id": "f160664f-b227-467c-88d4-d33e7c5a3c0f"
      },
      "outputs": [],
      "source": [
        "\n",
        "# Создание SparkSession\n",
        "spark = SparkSession.builder \\\n",
        "    .appName(\"Average Close Price Calculation\") \\\n",
        "    .config(\"spark.hadoop.fs.defaultFS\", \"hdfs://localhost:9870\") \\\n",
        "    .config(\"spark.ui.port\", \"4040\") \\\n",
        "    .getOrCreate()\n",
        "\n",
        "# Установка количества разделов для shuffle операций\n",
        "spark.conf.set(\"spark.sql.shuffle.partitions\", \"50\")"
      ]
    },
    {
      "cell_type": "code",
      "source": [
        "file_path = \"https://raw.githubusercontent.com/cucann/5_semester/refs/heads/main/PLZL.csv\""
      ],
      "metadata": {
        "id": "IE8skMtDu1aE"
      },
      "id": "IE8skMtDu1aE",
      "execution_count": 91,
      "outputs": []
    },
    {
      "cell_type": "code",
      "source": [
        "pandas_df = pd.read_csv(file_path)"
      ],
      "metadata": {
        "id": "K0zSF4AQ2cWl"
      },
      "id": "K0zSF4AQ2cWl",
      "execution_count": 92,
      "outputs": []
    },
    {
      "cell_type": "code",
      "source": [
        "df = spark.createDataFrame(pandas_df)"
      ],
      "metadata": {
        "id": "kLlwroTKu4Pl"
      },
      "id": "kLlwroTKu4Pl",
      "execution_count": 94,
      "outputs": []
    },
    {
      "cell_type": "code",
      "execution_count": 95,
      "id": "825ce6e6-4e67-45e5-a130-defecd267148",
      "metadata": {
        "id": "825ce6e6-4e67-45e5-a130-defecd267148",
        "colab": {
          "base_uri": "https://localhost:8080/"
        },
        "outputId": "5aade273-db0a-48db-c987-c7456aa98569"
      },
      "outputs": [
        {
          "output_type": "stream",
          "name": "stdout",
          "text": [
            "+----------+-------+-------+-------+-------+-------+------+\n",
            "|      Дата|   Цена|  Откр.|  Макс.|   Мин.|  Объём|Изм. %|\n",
            "+----------+-------+-------+-------+-------+-------+------+\n",
            "|01.12.2019|7.103,5|6.882,0|7.265,0|6.720,0|  1,80M| 3,08%|\n",
            "|01.11.2019|6.891,0|7.470,0|7.621,0|6.666,0|  2,48M|-7,74%|\n",
            "|01.10.2019|7.469,0|7.502,0|7.739,0|7.026,0|  1,86M|-1,01%|\n",
            "|01.09.2019|7.545,0|7.670,0|7.833,0|6.527,0|  2,16M|-1,57%|\n",
            "|01.08.2019|7.665,0|6.433,0|7.665,0|6.374,5|  3,36M|18,65%|\n",
            "|01.07.2019|6.460,0|5.775,0|6.550,0|5.650,0|  2,16M|10,84%|\n",
            "|01.06.2019|5.828,0|5.179,5|5.989,5|5.175,0|  2,37M|12,72%|\n",
            "|01.05.2019|5.170,5|5.035,0|5.170,5|4.760,0|  1,40M| 2,64%|\n",
            "|01.04.2019|5.037,5|5.417,0|5.485,0|4.835,0|  3,17M|-7,35%|\n",
            "|01.03.2019|5.437,0|5.460,0|5.589,0|5.020,0|  1,43M|-0,60%|\n",
            "|01.02.2019|5.470,0|5.529,5|5.555,0|5.148,0|  1,31M|-0,44%|\n",
            "|01.01.2019|5.494,0|5.400,0|5.678,0|5.060,0|830,52K| 1,76%|\n",
            "+----------+-------+-------+-------+-------+-------+------+\n",
            "\n"
          ]
        }
      ],
      "source": [
        "df.show()"
      ]
    },
    {
      "cell_type": "code",
      "execution_count": 70,
      "id": "d5e7d6e6-16be-4f35-b2c6-85d6df11a408",
      "metadata": {
        "id": "d5e7d6e6-16be-4f35-b2c6-85d6df11a408",
        "colab": {
          "base_uri": "https://localhost:8080/",
          "height": 206
        },
        "outputId": "3ff1657b-44af-4723-9238-3edbaa6eec39"
      },
      "outputs": [
        {
          "output_type": "execute_result",
          "data": {
            "text/plain": [
              "         Дата     Цена    Откр.    Макс.     Мин.  Объём  Изм. %\n",
              "0  01.12.2019  7.103,5  6.882,0  7.265,0  6.720,0  1,80M   3,08%\n",
              "1  01.11.2019  6.891,0  7.470,0  7.621,0  6.666,0  2,48M  -7,74%\n",
              "2  01.10.2019  7.469,0  7.502,0  7.739,0  7.026,0  1,86M  -1,01%\n",
              "3  01.09.2019  7.545,0  7.670,0  7.833,0  6.527,0  2,16M  -1,57%\n",
              "4  01.08.2019  7.665,0  6.433,0  7.665,0  6.374,5  3,36M  18,65%"
            ],
            "text/html": [
              "\n",
              "  <div id=\"df-9070dc8f-fc47-4e89-8a32-5c6866fb780d\" class=\"colab-df-container\">\n",
              "    <div>\n",
              "<style scoped>\n",
              "    .dataframe tbody tr th:only-of-type {\n",
              "        vertical-align: middle;\n",
              "    }\n",
              "\n",
              "    .dataframe tbody tr th {\n",
              "        vertical-align: top;\n",
              "    }\n",
              "\n",
              "    .dataframe thead th {\n",
              "        text-align: right;\n",
              "    }\n",
              "</style>\n",
              "<table border=\"1\" class=\"dataframe\">\n",
              "  <thead>\n",
              "    <tr style=\"text-align: right;\">\n",
              "      <th></th>\n",
              "      <th>Дата</th>\n",
              "      <th>Цена</th>\n",
              "      <th>Откр.</th>\n",
              "      <th>Макс.</th>\n",
              "      <th>Мин.</th>\n",
              "      <th>Объём</th>\n",
              "      <th>Изм. %</th>\n",
              "    </tr>\n",
              "  </thead>\n",
              "  <tbody>\n",
              "    <tr>\n",
              "      <th>0</th>\n",
              "      <td>01.12.2019</td>\n",
              "      <td>7.103,5</td>\n",
              "      <td>6.882,0</td>\n",
              "      <td>7.265,0</td>\n",
              "      <td>6.720,0</td>\n",
              "      <td>1,80M</td>\n",
              "      <td>3,08%</td>\n",
              "    </tr>\n",
              "    <tr>\n",
              "      <th>1</th>\n",
              "      <td>01.11.2019</td>\n",
              "      <td>6.891,0</td>\n",
              "      <td>7.470,0</td>\n",
              "      <td>7.621,0</td>\n",
              "      <td>6.666,0</td>\n",
              "      <td>2,48M</td>\n",
              "      <td>-7,74%</td>\n",
              "    </tr>\n",
              "    <tr>\n",
              "      <th>2</th>\n",
              "      <td>01.10.2019</td>\n",
              "      <td>7.469,0</td>\n",
              "      <td>7.502,0</td>\n",
              "      <td>7.739,0</td>\n",
              "      <td>7.026,0</td>\n",
              "      <td>1,86M</td>\n",
              "      <td>-1,01%</td>\n",
              "    </tr>\n",
              "    <tr>\n",
              "      <th>3</th>\n",
              "      <td>01.09.2019</td>\n",
              "      <td>7.545,0</td>\n",
              "      <td>7.670,0</td>\n",
              "      <td>7.833,0</td>\n",
              "      <td>6.527,0</td>\n",
              "      <td>2,16M</td>\n",
              "      <td>-1,57%</td>\n",
              "    </tr>\n",
              "    <tr>\n",
              "      <th>4</th>\n",
              "      <td>01.08.2019</td>\n",
              "      <td>7.665,0</td>\n",
              "      <td>6.433,0</td>\n",
              "      <td>7.665,0</td>\n",
              "      <td>6.374,5</td>\n",
              "      <td>3,36M</td>\n",
              "      <td>18,65%</td>\n",
              "    </tr>\n",
              "  </tbody>\n",
              "</table>\n",
              "</div>\n",
              "    <div class=\"colab-df-buttons\">\n",
              "\n",
              "  <div class=\"colab-df-container\">\n",
              "    <button class=\"colab-df-convert\" onclick=\"convertToInteractive('df-9070dc8f-fc47-4e89-8a32-5c6866fb780d')\"\n",
              "            title=\"Convert this dataframe to an interactive table.\"\n",
              "            style=\"display:none;\">\n",
              "\n",
              "  <svg xmlns=\"http://www.w3.org/2000/svg\" height=\"24px\" viewBox=\"0 -960 960 960\">\n",
              "    <path d=\"M120-120v-720h720v720H120Zm60-500h600v-160H180v160Zm220 220h160v-160H400v160Zm0 220h160v-160H400v160ZM180-400h160v-160H180v160Zm440 0h160v-160H620v160ZM180-180h160v-160H180v160Zm440 0h160v-160H620v160Z\"/>\n",
              "  </svg>\n",
              "    </button>\n",
              "\n",
              "  <style>\n",
              "    .colab-df-container {\n",
              "      display:flex;\n",
              "      gap: 12px;\n",
              "    }\n",
              "\n",
              "    .colab-df-convert {\n",
              "      background-color: #E8F0FE;\n",
              "      border: none;\n",
              "      border-radius: 50%;\n",
              "      cursor: pointer;\n",
              "      display: none;\n",
              "      fill: #1967D2;\n",
              "      height: 32px;\n",
              "      padding: 0 0 0 0;\n",
              "      width: 32px;\n",
              "    }\n",
              "\n",
              "    .colab-df-convert:hover {\n",
              "      background-color: #E2EBFA;\n",
              "      box-shadow: 0px 1px 2px rgba(60, 64, 67, 0.3), 0px 1px 3px 1px rgba(60, 64, 67, 0.15);\n",
              "      fill: #174EA6;\n",
              "    }\n",
              "\n",
              "    .colab-df-buttons div {\n",
              "      margin-bottom: 4px;\n",
              "    }\n",
              "\n",
              "    [theme=dark] .colab-df-convert {\n",
              "      background-color: #3B4455;\n",
              "      fill: #D2E3FC;\n",
              "    }\n",
              "\n",
              "    [theme=dark] .colab-df-convert:hover {\n",
              "      background-color: #434B5C;\n",
              "      box-shadow: 0px 1px 3px 1px rgba(0, 0, 0, 0.15);\n",
              "      filter: drop-shadow(0px 1px 2px rgba(0, 0, 0, 0.3));\n",
              "      fill: #FFFFFF;\n",
              "    }\n",
              "  </style>\n",
              "\n",
              "    <script>\n",
              "      const buttonEl =\n",
              "        document.querySelector('#df-9070dc8f-fc47-4e89-8a32-5c6866fb780d button.colab-df-convert');\n",
              "      buttonEl.style.display =\n",
              "        google.colab.kernel.accessAllowed ? 'block' : 'none';\n",
              "\n",
              "      async function convertToInteractive(key) {\n",
              "        const element = document.querySelector('#df-9070dc8f-fc47-4e89-8a32-5c6866fb780d');\n",
              "        const dataTable =\n",
              "          await google.colab.kernel.invokeFunction('convertToInteractive',\n",
              "                                                    [key], {});\n",
              "        if (!dataTable) return;\n",
              "\n",
              "        const docLinkHtml = 'Like what you see? Visit the ' +\n",
              "          '<a target=\"_blank\" href=https://colab.research.google.com/notebooks/data_table.ipynb>data table notebook</a>'\n",
              "          + ' to learn more about interactive tables.';\n",
              "        element.innerHTML = '';\n",
              "        dataTable['output_type'] = 'display_data';\n",
              "        await google.colab.output.renderOutput(dataTable, element);\n",
              "        const docLink = document.createElement('div');\n",
              "        docLink.innerHTML = docLinkHtml;\n",
              "        element.appendChild(docLink);\n",
              "      }\n",
              "    </script>\n",
              "  </div>\n",
              "\n",
              "\n",
              "<div id=\"df-10d8f0b7-37fc-4493-a2c6-35d410fd9414\">\n",
              "  <button class=\"colab-df-quickchart\" onclick=\"quickchart('df-10d8f0b7-37fc-4493-a2c6-35d410fd9414')\"\n",
              "            title=\"Suggest charts\"\n",
              "            style=\"display:none;\">\n",
              "\n",
              "<svg xmlns=\"http://www.w3.org/2000/svg\" height=\"24px\"viewBox=\"0 0 24 24\"\n",
              "     width=\"24px\">\n",
              "    <g>\n",
              "        <path d=\"M19 3H5c-1.1 0-2 .9-2 2v14c0 1.1.9 2 2 2h14c1.1 0 2-.9 2-2V5c0-1.1-.9-2-2-2zM9 17H7v-7h2v7zm4 0h-2V7h2v10zm4 0h-2v-4h2v4z\"/>\n",
              "    </g>\n",
              "</svg>\n",
              "  </button>\n",
              "\n",
              "<style>\n",
              "  .colab-df-quickchart {\n",
              "      --bg-color: #E8F0FE;\n",
              "      --fill-color: #1967D2;\n",
              "      --hover-bg-color: #E2EBFA;\n",
              "      --hover-fill-color: #174EA6;\n",
              "      --disabled-fill-color: #AAA;\n",
              "      --disabled-bg-color: #DDD;\n",
              "  }\n",
              "\n",
              "  [theme=dark] .colab-df-quickchart {\n",
              "      --bg-color: #3B4455;\n",
              "      --fill-color: #D2E3FC;\n",
              "      --hover-bg-color: #434B5C;\n",
              "      --hover-fill-color: #FFFFFF;\n",
              "      --disabled-bg-color: #3B4455;\n",
              "      --disabled-fill-color: #666;\n",
              "  }\n",
              "\n",
              "  .colab-df-quickchart {\n",
              "    background-color: var(--bg-color);\n",
              "    border: none;\n",
              "    border-radius: 50%;\n",
              "    cursor: pointer;\n",
              "    display: none;\n",
              "    fill: var(--fill-color);\n",
              "    height: 32px;\n",
              "    padding: 0;\n",
              "    width: 32px;\n",
              "  }\n",
              "\n",
              "  .colab-df-quickchart:hover {\n",
              "    background-color: var(--hover-bg-color);\n",
              "    box-shadow: 0 1px 2px rgba(60, 64, 67, 0.3), 0 1px 3px 1px rgba(60, 64, 67, 0.15);\n",
              "    fill: var(--button-hover-fill-color);\n",
              "  }\n",
              "\n",
              "  .colab-df-quickchart-complete:disabled,\n",
              "  .colab-df-quickchart-complete:disabled:hover {\n",
              "    background-color: var(--disabled-bg-color);\n",
              "    fill: var(--disabled-fill-color);\n",
              "    box-shadow: none;\n",
              "  }\n",
              "\n",
              "  .colab-df-spinner {\n",
              "    border: 2px solid var(--fill-color);\n",
              "    border-color: transparent;\n",
              "    border-bottom-color: var(--fill-color);\n",
              "    animation:\n",
              "      spin 1s steps(1) infinite;\n",
              "  }\n",
              "\n",
              "  @keyframes spin {\n",
              "    0% {\n",
              "      border-color: transparent;\n",
              "      border-bottom-color: var(--fill-color);\n",
              "      border-left-color: var(--fill-color);\n",
              "    }\n",
              "    20% {\n",
              "      border-color: transparent;\n",
              "      border-left-color: var(--fill-color);\n",
              "      border-top-color: var(--fill-color);\n",
              "    }\n",
              "    30% {\n",
              "      border-color: transparent;\n",
              "      border-left-color: var(--fill-color);\n",
              "      border-top-color: var(--fill-color);\n",
              "      border-right-color: var(--fill-color);\n",
              "    }\n",
              "    40% {\n",
              "      border-color: transparent;\n",
              "      border-right-color: var(--fill-color);\n",
              "      border-top-color: var(--fill-color);\n",
              "    }\n",
              "    60% {\n",
              "      border-color: transparent;\n",
              "      border-right-color: var(--fill-color);\n",
              "    }\n",
              "    80% {\n",
              "      border-color: transparent;\n",
              "      border-right-color: var(--fill-color);\n",
              "      border-bottom-color: var(--fill-color);\n",
              "    }\n",
              "    90% {\n",
              "      border-color: transparent;\n",
              "      border-bottom-color: var(--fill-color);\n",
              "    }\n",
              "  }\n",
              "</style>\n",
              "\n",
              "  <script>\n",
              "    async function quickchart(key) {\n",
              "      const quickchartButtonEl =\n",
              "        document.querySelector('#' + key + ' button');\n",
              "      quickchartButtonEl.disabled = true;  // To prevent multiple clicks.\n",
              "      quickchartButtonEl.classList.add('colab-df-spinner');\n",
              "      try {\n",
              "        const charts = await google.colab.kernel.invokeFunction(\n",
              "            'suggestCharts', [key], {});\n",
              "      } catch (error) {\n",
              "        console.error('Error during call to suggestCharts:', error);\n",
              "      }\n",
              "      quickchartButtonEl.classList.remove('colab-df-spinner');\n",
              "      quickchartButtonEl.classList.add('colab-df-quickchart-complete');\n",
              "    }\n",
              "    (() => {\n",
              "      let quickchartButtonEl =\n",
              "        document.querySelector('#df-10d8f0b7-37fc-4493-a2c6-35d410fd9414 button');\n",
              "      quickchartButtonEl.style.display =\n",
              "        google.colab.kernel.accessAllowed ? 'block' : 'none';\n",
              "    })();\n",
              "  </script>\n",
              "</div>\n",
              "    </div>\n",
              "  </div>\n"
            ],
            "application/vnd.google.colaboratory.intrinsic+json": {
              "type": "dataframe",
              "variable_name": "pandas_df",
              "summary": "{\n  \"name\": \"pandas_df\",\n  \"rows\": 12,\n  \"fields\": [\n    {\n      \"column\": \"\\u0414\\u0430\\u0442\\u0430\",\n      \"properties\": {\n        \"dtype\": \"object\",\n        \"num_unique_values\": 12,\n        \"samples\": [\n          \"01.02.2019\",\n          \"01.03.2019\",\n          \"01.12.2019\"\n        ],\n        \"semantic_type\": \"\",\n        \"description\": \"\"\n      }\n    },\n    {\n      \"column\": \"\\u0426\\u0435\\u043d\\u0430\",\n      \"properties\": {\n        \"dtype\": \"string\",\n        \"num_unique_values\": 12,\n        \"samples\": [\n          \"5.470,0\",\n          \"5.437,0\",\n          \"7.103,5\"\n        ],\n        \"semantic_type\": \"\",\n        \"description\": \"\"\n      }\n    },\n    {\n      \"column\": \"\\u041e\\u0442\\u043a\\u0440.\",\n      \"properties\": {\n        \"dtype\": \"string\",\n        \"num_unique_values\": 12,\n        \"samples\": [\n          \"5.529,5\",\n          \"5.460,0\",\n          \"6.882,0\"\n        ],\n        \"semantic_type\": \"\",\n        \"description\": \"\"\n      }\n    },\n    {\n      \"column\": \"\\u041c\\u0430\\u043a\\u0441.\",\n      \"properties\": {\n        \"dtype\": \"string\",\n        \"num_unique_values\": 12,\n        \"samples\": [\n          \"5.555,0\",\n          \"5.589,0\",\n          \"7.265,0\"\n        ],\n        \"semantic_type\": \"\",\n        \"description\": \"\"\n      }\n    },\n    {\n      \"column\": \"\\u041c\\u0438\\u043d.\",\n      \"properties\": {\n        \"dtype\": \"string\",\n        \"num_unique_values\": 12,\n        \"samples\": [\n          \"5.148,0\",\n          \"5.020,0\",\n          \"6.720,0\"\n        ],\n        \"semantic_type\": \"\",\n        \"description\": \"\"\n      }\n    },\n    {\n      \"column\": \"\\u041e\\u0431\\u044a\\u0451\\u043c\",\n      \"properties\": {\n        \"dtype\": \"string\",\n        \"num_unique_values\": 11,\n        \"samples\": [\n          \"2,37M\",\n          \"1,80M\",\n          \"1,31M\"\n        ],\n        \"semantic_type\": \"\",\n        \"description\": \"\"\n      }\n    },\n    {\n      \"column\": \"\\u0418\\u0437\\u043c. %\",\n      \"properties\": {\n        \"dtype\": \"string\",\n        \"num_unique_values\": 12,\n        \"samples\": [\n          \"-0,44%\",\n          \"-0,60%\",\n          \"3,08%\"\n        ],\n        \"semantic_type\": \"\",\n        \"description\": \"\"\n      }\n    }\n  ]\n}"
            }
          },
          "metadata": {},
          "execution_count": 70
        }
      ],
      "source": [
        "pandas_df = df.toPandas()\n",
        "pandas_df.head()"
      ]
    },
    {
      "cell_type": "code",
      "source": [
        "from pyspark.sql.functions import col, avg, regexp_replace\n",
        "df = df.withColumn(\"Цена\", regexp_replace(\"Цена\", \"[^0-9.]\", \"\").cast(\"double\")) \\\n",
        "       .withColumn(\"Объём\", regexp_replace(\"Объём\", \"[^0-9.]\", \"\").cast(\"double\")) \\\n",
        "       .na.drop(subset=[\"Цена\", \"Объём\"])"
      ],
      "metadata": {
        "id": "tz1QPki2_Ugn"
      },
      "id": "tz1QPki2_Ugn",
      "execution_count": 82,
      "outputs": []
    },
    {
      "cell_type": "code",
      "source": [
        "average_close = df.agg(avg(\"Цена\").alias(\"Average_Close\")).collect()[0][\"Average_Close\"]\n",
        "print(f\"Средняя цена закрытия: {average_close}\")"
      ],
      "metadata": {
        "colab": {
          "base_uri": "https://localhost:8080/"
        },
        "id": "qx8XDlGD8p72",
        "outputId": "a7233a8f-7698-4ae5-9294-3e22dbf3060d"
      },
      "id": "qx8XDlGD8p72",
      "execution_count": 84,
      "outputs": [
        {
          "output_type": "stream",
          "name": "stdout",
          "text": [
            "Средняя цена закрытия: 6.297541666666667\n"
          ]
        }
      ]
    },
    {
      "cell_type": "code",
      "source": [
        "correlation = df.stat.corr(\"Цена\", \"Объём\")\n",
        "print(f\"Корреляция между ценой и объемом торгов: {correlation}\")"
      ],
      "metadata": {
        "colab": {
          "base_uri": "https://localhost:8080/"
        },
        "id": "T4GtbSeEARxp",
        "outputId": "b4c1c7fe-dc81-4ef3-b0da-acb2125c99a3"
      },
      "id": "T4GtbSeEARxp",
      "execution_count": 85,
      "outputs": [
        {
          "output_type": "stream",
          "name": "stdout",
          "text": [
            "Корреляция между ценой и объемом торгов: -0.2525548703646292\n"
          ]
        }
      ]
    },
    {
      "cell_type": "code",
      "source": [
        "import seaborn as sns\n",
        "pandas_df = df.toPandas()\n",
        "\n",
        "\n",
        "plt.figure(figsize=(10, 6))\n",
        "sns.scatterplot(data=pandas_df, x=\"Объём\", y=\"Цена\")\n",
        "plt.title(\"Корреляция между ценой и объемом торгов\")\n",
        "plt.xlabel(\"Объем торгов\")\n",
        "plt.ylabel(\"Цена\")\n",
        "plt.grid()\n",
        "plt.show()"
      ],
      "metadata": {
        "colab": {
          "base_uri": "https://localhost:8080/",
          "height": 564
        },
        "id": "GgKO7pYaALdE",
        "outputId": "5ee62b12-5014-4eda-c1b2-0275a27769c3"
      },
      "id": "GgKO7pYaALdE",
      "execution_count": 88,
      "outputs": [
        {
          "output_type": "display_data",
          "data": {
            "text/plain": [
              "<Figure size 1000x600 with 1 Axes>"
            ],
            "image/png": "[encoded data removed]"
          },
          "metadata": {}
        }
      ]
    },
    {
      "cell_type": "code",
      "execution_count": 102,
      "id": "5b4e1fd4-3454-4c51-86a7-0f9920c03a6f",
      "metadata": {
        "id": "5b4e1fd4-3454-4c51-86a7-0f9920c03a6f"
      },
      "outputs": [],
      "source": [
        "avgicor_spark = spark.createDataFrame(pandas_df)"
      ]
    },
    {
      "cell_type": "code",
      "source": [
        "file_path_hdfs = \"hdfs://localhost:9870/userind/hadoop/polus_data/newdata.csv\"\n",
        "\n",
        "newdata_spark.write.csv(file_path_hdfs, header=True, mode='overwrite')"
      ],
      "metadata": {
        "id": "XGkPhUoADBia"
      },
      "id": "XGkPhUoADBia",
      "execution_count": null,
      "outputs": []
    },
    {
      "cell_type": "code",
      "execution_count": null,
      "id": "3e98adc5-46da-4b0c-a729-411467ea5200",
      "metadata": {
        "id": "3e98adc5-46da-4b0c-a729-411467ea5200"
      },
      "outputs": [],
      "source": [
        "#Ошибка org.apache.hadoop.security.AccessControlException:\n",
        "# Permission denied указывает на то, что текущий пользователь (devops) не имеет прав на запись в указанный каталог HDFS (/user2/hadoop/economic_data)."
      ]
    },
    {
      "cell_type": "markdown",
      "id": "146800d4-fc52-4696-ba46-1113acf252dd",
      "metadata": {
        "id": "146800d4-fc52-4696-ba46-1113acf252dd"
      },
      "source": [
        "Изменение прав доступа к каталогу:\n",
        "\n",
        "Используйте команду hdfs dfs -chmod для изменения прав доступа и разрешения записи для нужного пользователя:\n",
        "hdfs dfs -chmod 777 /user2/hadoop/economic_data"
      ]
    }
  ],
  "metadata": {
    "kernelspec": {
      "display_name": "Python 3 (ipykernel)",
      "language": "python",
      "name": "python3"
    },
    "language_info": {
      "codemirror_mode": {
        "name": "ipython",
        "version": 3
      },
      "file_extension": ".py",
      "mimetype": "text/x-python",
      "name": "python",
      "nbconvert_exporter": "python",
      "pygments_lexer": "ipython3",
      "version": "3.12.3"
    },
    "colab": {
      "provenance": []
    }
  },
  "nbformat": 4,
  "nbformat_minor": 5
}